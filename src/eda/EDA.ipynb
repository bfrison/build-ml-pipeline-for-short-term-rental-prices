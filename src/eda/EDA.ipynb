{
 "cells": [
  {
   "cell_type": "code",
   "execution_count": null,
   "id": "0668fb5c-fb70-46ae-9c2d-013cece31fbb",
   "metadata": {},
   "outputs": [],
   "source": [
    "import wandb\n",
    "import pandas as pd\n",
    "\n",
    "run = wandb.init(project=\"nyc_airbnb\", group=\"eda\", save_code=True)\n",
    "local_path = wandb.use_artifact(\"sample.csv:latest\").file()\n",
    "df = pd.read_csv(local_path).convert_dtypes()"
   ]
  },
  {
   "cell_type": "code",
   "execution_count": null,
   "id": "ad4c5f98-81f6-49d5-9a54-9c8df3612afb",
   "metadata": {},
   "outputs": [],
   "source": [
    "import ydata_profiling\n",
    "\n",
    "profile = ydata_profiling.ProfileReport(df)\n",
    "profile.to_widgets()"
   ]
  },
  {
   "cell_type": "code",
   "execution_count": null,
   "id": "227c4ec7-1f05-41cb-9c48-96ca8402cf6b",
   "metadata": {},
   "outputs": [],
   "source": [
    "df_2 = pd.read_csv(local_path, index_col='id', parse_dates=['last_review']).convert_dtypes()"
   ]
  },
  {
   "cell_type": "code",
   "execution_count": null,
   "id": "90fad2ee-8c9f-4af4-ace4-8bb8c065eefa",
   "metadata": {},
   "outputs": [],
   "source": [
    "min_price = 10\n",
    "max_price = 350\n",
    "df_clip_price = df_2[df_2.price.between(10, 350)].copy()"
   ]
  },
  {
   "cell_type": "code",
   "execution_count": null,
   "id": "aa4d3a74-8834-4974-9011-356db21ac10a",
   "metadata": {},
   "outputs": [],
   "source": [
    "profile_2 = ydata_profiling.ProfileReport(df_clip_price)\n",
    "profile_2.to_widgets()"
   ]
  },
  {
   "cell_type": "code",
   "execution_count": null,
   "id": "44986822-0950-45df-ae9f-3dc8abbfe8e1",
   "metadata": {},
   "outputs": [],
   "source": [
    "run.finish()"
   ]
  }
 ],
 "metadata": {
  "kernelspec": {
   "display_name": "Python 3 (ipykernel)",
   "language": "python",
   "name": "python3"
  },
  "language_info": {
   "codemirror_mode": {
    "name": "ipython",
    "version": 3
   },
   "file_extension": ".py",
   "mimetype": "text/x-python",
   "name": "python",
   "nbconvert_exporter": "python",
   "pygments_lexer": "ipython3",
   "version": "3.10.14"
  }
 },
 "nbformat": 4,
 "nbformat_minor": 5
}
